{
 "cells": [
  {
   "cell_type": "code",
   "execution_count": 2,
   "id": "60025942",
   "metadata": {},
   "outputs": [],
   "source": [
    "from langchain_openai import ChatOpenAI \n",
    "\n",
    "llm = ChatOpenAI(\n",
    "    temperature=0.7,\n",
    "    openai_api_key=\"bH8vNoPPMdeiR1oh4NNgFqrQGLUVRN8D\",\n",
    "    openai_api_base=\"https://Meta-Llama-3-8B-Instruct-rvejq-serverless.eastus2.inference.ai.azure.com/v1/\",\n",
    ")"
   ]
  },
  {
   "cell_type": "code",
   "execution_count": 3,
   "id": "50a798ca",
   "metadata": {},
   "outputs": [
    {
     "data": {
      "text/plain": [
       "ChatOpenAI(client=<openai.resources.chat.completions.completions.Completions object at 0x000001C47E66D0A0>, async_client=<openai.resources.chat.completions.completions.AsyncCompletions object at 0x000001C47E66F410>, openai_api_key='bH8vNoPPMdeiR1oh4NNgFqrQGLUVRN8D', openai_api_base='https://Meta-Llama-3-8B-Instruct-rvejq-serverless.eastus2.inference.ai.azure.com/v1/', openai_proxy='')"
      ]
     },
     "execution_count": 3,
     "metadata": {},
     "output_type": "execute_result"
    }
   ],
   "source": [
    "llm"
   ]
  },
  {
   "cell_type": "code",
   "execution_count": null,
   "id": "027c12e2",
   "metadata": {},
   "outputs": [],
   "source": []
  }
 ],
 "metadata": {
  "kernelspec": {
   "display_name": "dlytica_env",
   "language": "python",
   "name": "python3"
  },
  "language_info": {
   "codemirror_mode": {
    "name": "ipython",
    "version": 3
   },
   "file_extension": ".py",
   "mimetype": "text/x-python",
   "name": "python",
   "nbconvert_exporter": "python",
   "pygments_lexer": "ipython3",
   "version": "3.12.3"
  }
 },
 "nbformat": 4,
 "nbformat_minor": 5
}
